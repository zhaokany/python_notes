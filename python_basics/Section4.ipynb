{
 "cells": [
  {
   "cell_type": "markdown",
   "metadata": {},
   "source": [
    "# 1. For Loop"
   ]
  },
  {
   "cell_type": "markdown",
   "metadata": {},
   "source": [
    "> for key word iteratate iterable objects such as string or list"
   ]
  },
  {
   "cell_type": "code",
   "execution_count": 1,
   "metadata": {
    "collapsed": false
   },
   "outputs": [
    {
     "name": "stdout",
     "output_type": "stream",
     "text": [
      "Z\n",
      "H\n",
      "A\n",
      "O\n",
      "K\n",
      "A\n",
      "N\n",
      "G\n"
     ]
    }
   ],
   "source": [
    "name = \"Zhaokang\"\n",
    "for c in name:\n",
    "    print(c.upper())"
   ]
  },
  {
   "cell_type": "markdown",
   "metadata": {},
   "source": [
    "# 2. Raising and Handling Exceptions"
   ]
  },
  {
   "cell_type": "code",
   "execution_count": 2,
   "metadata": {
    "collapsed": false
   },
   "outputs": [
    {
     "name": "stdout",
     "output_type": "stream",
     "text": [
      "(This is an intentional error)\n"
     ]
    }
   ],
   "source": [
    "def foo_with_exception():\n",
    "    raise ValueError(\"This is an intentional error\")\n",
    "    \n",
    "try:\n",
    "    foo_with_exception()\n",
    "except ValueError as err:\n",
    "    print(\"({})\".format(err))\n",
    "else:\n",
    "    print(\"No error. This should NOT be reached\")"
   ]
  },
  {
   "cell_type": "code",
   "execution_count": null,
   "metadata": {
    "collapsed": true
   },
   "outputs": [],
   "source": []
  }
 ],
 "metadata": {
  "kernelspec": {
   "display_name": "Python 3",
   "language": "python",
   "name": "python3"
  },
  "language_info": {
   "codemirror_mode": {
    "name": "ipython",
    "version": 3
   },
   "file_extension": ".py",
   "mimetype": "text/x-python",
   "name": "python",
   "nbconvert_exporter": "python",
   "pygments_lexer": "ipython3",
   "version": "3.6.0"
  }
 },
 "nbformat": 4,
 "nbformat_minor": 2
}
